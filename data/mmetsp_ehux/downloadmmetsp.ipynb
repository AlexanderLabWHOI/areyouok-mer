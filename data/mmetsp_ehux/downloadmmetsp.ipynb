{
 "cells": [
  {
   "cell_type": "code",
   "execution_count": 15,
   "metadata": {},
   "outputs": [],
   "source": [
    "import pandas as pd\n",
    "import numpy as np\n",
    "import os"
   ]
  },
  {
   "cell_type": "code",
   "execution_count": 4,
   "metadata": {},
   "outputs": [],
   "source": [
    "mmetsp = pd.read_csv(\"forNCBI_MMETSP_2.csv\")"
   ]
  },
  {
   "cell_type": "code",
   "execution_count": 14,
   "metadata": {},
   "outputs": [
    {
     "data": {
      "text/plain": [
       "['MMETSP0994',\n",
       " 'MMETSP0996',\n",
       " 'MMETSP0997',\n",
       " 'MMETSP0995',\n",
       " 'MMETSP1009',\n",
       " 'MMETSP1006',\n",
       " 'MMETSP1008',\n",
       " 'MMETSP1007',\n",
       " 'MMETSP1153',\n",
       " 'MMETSP1155',\n",
       " 'MMETSP1151',\n",
       " 'MMETSP1152',\n",
       " 'MMETSP1154',\n",
       " 'MMETSP1156',\n",
       " 'MMETSP1150',\n",
       " 'MMETSP1157']"
      ]
     },
     "execution_count": 14,
     "metadata": {},
     "output_type": "execute_result"
    }
   ],
   "source": [
    "mmetspfiles = list(mmetsp[mmetsp[\"ORGANISM\"] == \"Emiliania huxleyi\"].SAMPLE_NAME)\n",
    "mmetspfiles"
   ]
  },
  {
   "cell_type": "code",
   "execution_count": 17,
   "metadata": {},
   "outputs": [],
   "source": [
    "prefix = \"/vortexfs1/omics/data/mmetsp/johnson/nt/\"\n",
    "suffix = \".trinity_out_2.2.0.Trinity.fasta.renamed.fasta\"\n",
    "for mm in mmetspfiles:\n",
    "    os.system(\"cp \" + prefix + mm + suffix + \" \" + mm + \".fasta\")"
   ]
  }
 ],
 "metadata": {
  "kernelspec": {
   "display_name": "Python 3",
   "language": "python",
   "name": "python3"
  },
  "language_info": {
   "codemirror_mode": {
    "name": "ipython",
    "version": 3
   },
   "file_extension": ".py",
   "mimetype": "text/x-python",
   "name": "python",
   "nbconvert_exporter": "python",
   "pygments_lexer": "ipython3",
   "version": "3.6.9"
  }
 },
 "nbformat": 4,
 "nbformat_minor": 2
}
