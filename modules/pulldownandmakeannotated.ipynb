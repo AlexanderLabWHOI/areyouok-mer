{
 "cells": [
  {
   "cell_type": "code",
   "execution_count": 1,
   "metadata": {},
   "outputs": [],
   "source": [
    "import os"
   ]
  },
  {
   "cell_type": "code",
   "execution_count": 3,
   "metadata": {},
   "outputs": [
    {
     "data": {
      "text/plain": [
       "32512"
      ]
     },
     "execution_count": 3,
     "metadata": {},
     "output_type": "execute_result"
    }
   ],
   "source": [
    "os.system(\"gffread -w ../data/interleaved_ncbi/thapsreferencecoding.fasta -g ../data/thaps_genome/Thaps3_bd_unmapped_assembly_scaffolds.fasta ../data/thaps_genome/Thaps3_bd.filtered_proteins.FilteredModels1.gff3\")"
   ]
  },
  {
   "cell_type": "markdown",
   "metadata": {},
   "source": [
    "\n",
    "os.system(\"gffread -w ../data/interleaved_ncbi/thapsreferencecoding.fasta -g \n",
    "          ../data/thaps_genome/Thaps3_bd_unmapped_assembly_scaffolds.fasta \n",
    "          ../data/thaps_genome/Thaps3_bd.filtered_proteins.FilteredModels1.gff3\")\n",
    "          \n",
    "## Command for creating a fragilariopsis reference\n",
    "gffread -w ../data/interleaved_ncbi/fragreferencecoding.fasta -g \n",
    "../data/frag_genome/fragreference.fasta \n",
    "../data/frag_genome/Fracy1_GeneModels_AllModels_20090218.gff\n",
    "\n",
    "gffread -w ../data/interleaved_ncbi/fragreferencecoding.fasta -g ../data/frag_genome/fragreference.fasta ../data/frag_genome/Fracy1_GeneModels_FilteredModels3.gff3\n",
    "\n",
    "## Command for creating a _Pseudo-nitzschia_ reference\n",
    "gffread -w ../data/interleaved_ncbi/pseudreferencecoding.fasta -g \n",
    "../data/pseud_genome/pseudreference.fasta \n",
    "../data/pseud_genome/Psemu1_GeneCatalog_genes_20111011.gff\n",
    "\n",
    "gffread -w ../data/interleaved_ncbi/pseudreferencecoding.fasta -g ../data/pseud_genome/pseudreference.fasta ../data/pseud_genome/Psemu1_GeneCatalog_genes_20111011.gff\n",
    "\n",
    "gffread -T ../data/pseud_genome/Psemu1_GeneCatalog_genes_20111011.gff -o ../data/pseud_genome/Psemu1_GeneCatalog_genes_20111011.gtf\n",
    "gffread -w ../data/interleaved_ncbi/pseudreferencecoding.fasta -g ../data/pseud_genome/pseudreference.fasta ../data/pseud_genome/Psemu1_GeneCatalog_genes_20111011.gtf"
   ]
  },
  {
   "cell_type": "markdown",
   "metadata": {},
   "source": [
    " -C feature for gffread keeps only coding features. \n",
    " \n",
    " gffread -C -w ../data/interleaved_ncbi/ehuxreferencecoding.fasta -g ../data/ehuxreference.fasta ../data/ehuxannotation.gff3"
   ]
  }
 ],
 "metadata": {
  "kernelspec": {
   "display_name": "Python 3",
   "language": "python",
   "name": "python3"
  },
  "language_info": {
   "codemirror_mode": {
    "name": "ipython",
    "version": 3
   },
   "file_extension": ".py",
   "mimetype": "text/x-python",
   "name": "python",
   "nbconvert_exporter": "python",
   "pygments_lexer": "ipython3",
   "version": "3.6.9"
  }
 },
 "nbformat": 4,
 "nbformat_minor": 2
}
